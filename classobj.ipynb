{
 "cells": [
  {
   "cell_type": "code",
   "execution_count": 1,
   "metadata": {},
   "outputs": [
    {
     "name": "stdout",
     "output_type": "stream",
     "text": [
      "<class '__main__.Person'>\n",
      "<__main__.Person object at 0x0000023B7A270140>\n"
     ]
    }
   ],
   "source": [
    "class Person:# 声明一个类对象\n",
    "\n",
    "    pass\n",
    "\n",
    "p1 = Person()#声明一个实例对象\n",
    "\n",
    "print(Person)#输出结果：<class '__main__.Person'>\n",
    "\n",
    "print(p1)#<__main__.Person object at 0x0000015F7F94D0F0>"
   ]
  },
  {
   "cell_type": "markdown",
   "metadata": {},
   "source": [
    "在Python中，print(Person)输出<class '__main__.Person'>，这是因为Person是一个类对象。当使用print函数输出类对象时，Python会显示类对象的类型和内存地址等信息，<class '__main__.Person'>表示这是一个类，__main__表示该类定义在当前模块（主程序）中，Person是类的名称\n",
    "。\n",
    "\n",
    "如果想要自定义类的实例对象的输出形式，可以在类中定义__str__方法，该方法返回一个字符串，用于表示对象的“人类可读”形式，当使用print函数输出类的实例对象时，Python会自动调用该对象的__str__方法；定义__repr__方法，该方法返回对象的“官方”字符串表示，通常可以用于重新创建该对象，当使用print函数输出类的实例对象时，如果没有定义__str__方法，Python会调用__repr__方法\n",
    "。"
   ]
  },
  {
   "cell_type": "code",
   "execution_count": null,
   "metadata": {},
   "outputs": [],
   "source": []
  }
 ],
 "metadata": {
  "kernelspec": {
   "display_name": "base",
   "language": "python",
   "name": "python3"
  },
  "language_info": {
   "codemirror_mode": {
    "name": "ipython",
    "version": 3
   },
   "file_extension": ".py",
   "mimetype": "text/x-python",
   "name": "python",
   "nbconvert_exporter": "python",
   "pygments_lexer": "ipython3",
   "version": "3.12.3"
  }
 },
 "nbformat": 4,
 "nbformat_minor": 2
}
