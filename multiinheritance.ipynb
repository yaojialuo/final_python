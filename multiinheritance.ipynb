{
  "nbformat": 4,
  "nbformat_minor": 0,
  "metadata": {
    "colab": {
      "provenance": [],
      "authorship_tag": "ABX9TyMKBkwq/tBci/xzrU4eVVPI",
      "include_colab_link": true
    },
    "kernelspec": {
      "name": "python3",
      "display_name": "Python 3"
    },
    "language_info": {
      "name": "python"
    }
  },
  "cells": [
    {
      "cell_type": "markdown",
      "metadata": {
        "id": "view-in-github",
        "colab_type": "text"
      },
      "source": [
        "<a href=\"https://colab.research.google.com/github/yaojialuo/final_python/blob/main/multiinheritance.ipynb\" target=\"_parent\"><img src=\"https://colab.research.google.com/assets/colab-badge.svg\" alt=\"Open In Colab\"/></a>"
      ]
    },
    {
      "cell_type": "code",
      "source": [],
      "metadata": {
        "id": "e8-oukdjJ1Z3"
      },
      "execution_count": null,
      "outputs": []
    },
    {
      "cell_type": "code",
      "source": [
        "class Mycls:\n",
        "  _instance = None\n",
        "  def __new__(cls):\n",
        "        # 判断该类的属性是否为空；对第一个对象没有被创建，我们应该调用父类的方法，为第一个对象分配空间\n",
        "        if cls._instance == None:\n",
        "        # 把类属性中保存的对象引用返回给python的解释器\n",
        "                cls._instance = object.__new__(cls)\n",
        "                return cls._instance\n",
        "      # 如果cls._instance不为None,直接返回已经实例化了的实例对象\n",
        "        else:\n",
        "              return cls._instance\n",
        "  def __init__(self):\n",
        "          print('init')\n",
        "my1=Mycls()\n",
        "print(my1)\n",
        "my2=Mycls()\n",
        "print(my2)"
      ],
      "metadata": {
        "colab": {
          "base_uri": "https://localhost:8080/"
        },
        "id": "Jue81poO4icX",
        "outputId": "ec3f573d-570b-474a-e146-b61bdfee4f5b"
      },
      "execution_count": 1,
      "outputs": [
        {
          "output_type": "stream",
          "name": "stdout",
          "text": [
            "init\n",
            "<__main__.Mycls object at 0x7c221e743c10>\n",
            "init\n",
            "<__main__.Mycls object at 0x7c221e743c10>\n"
          ]
        }
      ]
    },
    {
      "cell_type": "code",
      "source": [],
      "metadata": {
        "id": "p6YHPnd64oXT"
      },
      "execution_count": null,
      "outputs": []
    }
  ]
}