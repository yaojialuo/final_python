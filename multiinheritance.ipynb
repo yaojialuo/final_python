{
  "cells": [
    {
      "cell_type": "code",
      "execution_count": 3,
      "metadata": {
        "colab": {
          "base_uri": "https://localhost:8080/"
        },
        "id": "Jue81poO4icX",
        "outputId": "ec3f573d-570b-474a-e146-b61bdfee4f5b"
      },
      "outputs": [
        {
          "name": "stdout",
          "output_type": "stream",
          "text": [
            "<class 'type'>\n",
            "init\n",
            "<__main__.Mycls object at 0x0000013729200F20>\n",
            "<class 'type'>\n",
            "init\n",
            "<__main__.Mycls object at 0x0000013729200F20>\n"
          ]
        }
      ],
      "source": [
        "class Mycls:\n",
        "  _instance = None\n",
        "  def __new__(cls):\n",
        "        # 判断该类的属性是否为空；对第一个对象没有被创建，我们应该调用父类的方法，为第一个对象分配空间\n",
        "        print(type(cls))\n",
        "        if cls._instance == None:\n",
        "        # 把类属性中保存的对象引用返回给python的解释器\n",
        "                cls._instance = object.__new__(cls)\n",
        "                #cls._instance = Mycls() 会无限循环\n",
        "                return cls._instance\n",
        "      # 如果cls._instance不为None,直接返回已经实例化了的实例对象\n",
        "        else:\n",
        "              return Mycls._instance\n",
        "  def __init__(self):\n",
        "          print('init')\n",
        "\n",
        "  @staticmethod\n",
        "  def printClass():\n",
        "        print(Mycls._instance)\n",
        "my1=Mycls()\n",
        "print(my1)\n",
        "my2=Mycls()\n",
        "print(my2)"
      ]
    },
    {
      "cell_type": "code",
      "execution_count": 2,
      "metadata": {
        "id": "p6YHPnd64oXT"
      },
      "outputs": [
        {
          "data": {
            "text/plain": [
              "3095326002976"
            ]
          },
          "execution_count": 2,
          "metadata": {},
          "output_type": "execute_result"
        }
      ],
      "source": [
        "id(Mycls._instance)"
      ]
    },
    {
      "cell_type": "code",
      "execution_count": 4,
      "metadata": {},
      "outputs": [
        {
          "name": "stdout",
          "output_type": "stream",
          "text": [
            "<__main__.Mycls object at 0x0000013729200F20>\n"
          ]
        }
      ],
      "source": [
        "Mycls.printClass()"
      ]
    },
    {
      "cell_type": "code",
      "execution_count": null,
      "metadata": {},
      "outputs": [],
      "source": [
        "# 使用场景\n",
        "# 两者特点：\n",
        "\n",
        "# classmethod可以设置修改类属性；也可以实例化对象；\n",
        "# staticmethod无法访问类或对象的数据，所以可把它当作一个辅助功能方法用，里面包含一些与该类有关的逻辑代码。比如validate(*args)\n",
        "# 需求：从本地文件中(txt, csv, json等等)读取数据，生成一个对象。比如，本地有一个data.json文件，里面包含了每个学生的姓名及对应的考试成绩。现在要求读取该数据，生成一个class对象。\n",
        "\n",
        "# 思路：\n",
        "\n",
        "# __init__方法中，清晰的声明对象的属性\n",
        "# 用一个classmethod：load_json，专门用于读取data_file，获取数据，实例化对象\n",
        "# 用一个staticmethod：validate，来对要初始化数据进行有效性检查\n",
        "\n",
        "class Class:\n",
        "    def __init__(self, names, grades):\n",
        "        self._names = names\n",
        "        self._grades = grades\n",
        "\n",
        "    @classmethod\n",
        "    def load_json(cls, data_file):\n",
        "        # 读取数据,获得names,grades\n",
        "        cls.validate(names，grades)\n",
        "        return cls(names, grades)\n",
        "\n",
        "    @staticmethod\n",
        "    def validate(names, grades):\n",
        "        # 检查数据有效性\n",
        "        pass\n",
        "\n"
      ]
    }
  ],
  "metadata": {
    "colab": {
      "authorship_tag": "ABX9TyMKBkwq/tBci/xzrU4eVVPI",
      "include_colab_link": true,
      "provenance": []
    },
    "kernelspec": {
      "display_name": "Python 3",
      "name": "python3"
    },
    "language_info": {
      "codemirror_mode": {
        "name": "ipython",
        "version": 3
      },
      "file_extension": ".py",
      "mimetype": "text/x-python",
      "name": "python",
      "nbconvert_exporter": "python",
      "pygments_lexer": "ipython3",
      "version": "3.12.3"
    }
  },
  "nbformat": 4,
  "nbformat_minor": 0
}
