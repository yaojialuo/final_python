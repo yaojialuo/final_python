{
  "cells": [
    {
      "cell_type": "code",
      "execution_count": 2,
      "metadata": {
        "colab": {
          "base_uri": "https://localhost:8080/"
        },
        "id": "Jue81poO4icX",
        "outputId": "ec3f573d-570b-474a-e146-b61bdfee4f5b"
      },
      "outputs": [
        {
          "name": "stdout",
          "output_type": "stream",
          "text": [
            "<class 'type'>\n",
            "init\n",
            "<__main__.Mycls object at 0x0000024C9E2D8470>\n",
            "<class 'type'>\n",
            "init\n",
            "<__main__.Mycls object at 0x0000024C9E2D8470>\n"
          ]
        }
      ],
      "source": [
        "class Mycls:\n",
        "  _instance = None\n",
        "  def __new__(cls):\n",
        "        # 判断该类的属性是否为空；对第一个对象没有被创建，我们应该调用父类的方法，为第一个对象分配空间\n",
        "        print(type(cls))\n",
        "        if cls._instance == None:\n",
        "        # 把类属性中保存的对象引用返回给python的解释器\n",
        "                cls._instance = object.__new__(cls)\n",
        "                return cls._instance\n",
        "      # 如果cls._instance不为None,直接返回已经实例化了的实例对象\n",
        "        else:\n",
        "              return cls._instance\n",
        "  def __init__(self):\n",
        "          print('init')\n",
        "my1=Mycls()\n",
        "print(my1)\n",
        "my2=Mycls()\n",
        "print(my2)"
      ]
    },
    {
      "cell_type": "code",
      "execution_count": null,
      "metadata": {
        "id": "p6YHPnd64oXT"
      },
      "outputs": [],
      "source": []
    }
  ],
  "metadata": {
    "colab": {
      "authorship_tag": "ABX9TyMKBkwq/tBci/xzrU4eVVPI",
      "include_colab_link": true,
      "provenance": []
    },
    "kernelspec": {
      "display_name": "Python 3",
      "name": "python3"
    },
    "language_info": {
      "codemirror_mode": {
        "name": "ipython",
        "version": 3
      },
      "file_extension": ".py",
      "mimetype": "text/x-python",
      "name": "python",
      "nbconvert_exporter": "python",
      "pygments_lexer": "ipython3",
      "version": "3.12.3"
    }
  },
  "nbformat": 4,
  "nbformat_minor": 0
}
